{
  "nbformat": 4,
  "nbformat_minor": 0,
  "metadata": {
    "colab": {
      "name": "Exercise2_DogvsCat_CNN.ipynb",
      "provenance": [],
      "include_colab_link": true
    },
    "kernelspec": {
      "name": "python3",
      "display_name": "Python 3"
    },
    "accelerator": "GPU"
  },
  "cells": [
    {
      "cell_type": "markdown",
      "metadata": {
        "id": "view-in-github",
        "colab_type": "text"
      },
      "source": [
        "<a href=\"https://colab.research.google.com/github/ss20648/CE888/blob/main/Lab%207/Exercise2_DogvsCat_CNN.ipynb\" target=\"_parent\"><img src=\"https://colab.research.google.com/assets/colab-badge.svg\" alt=\"Open In Colab\"/></a>"
      ]
    },
    {
      "cell_type": "markdown",
      "metadata": {
        "id": "qTh9DiKVslsJ"
      },
      "source": [
        "## Dogs vs. Cats \n",
        "\n",
        "In this competition, you'll write an algorithm to classify whether images contain either a dog or a cat.  This is easy for humans, dogs, and cats. Your computer will find it a bit more difficult.\n",
        "\n",
        "![alt text](https://miro.medium.com/max/3000/1*bhFifratH9DjKqMBTeQG5A.gif)\n",
        "\n",
        "Ref: https://medium.com/@thegrigorian/rolling-in-the-deep-cnn-c8d3f7108c8c"
      ]
    },
    {
      "cell_type": "markdown",
      "metadata": {
        "id": "RSBI-_mSSY1g"
      },
      "source": [
        "Get your API Key from Kaggle using following steps:\n",
        "1. Login to [Kaggle](https://www.kaggle.com/) or Register if you don't have account\n",
        "2. Open Dataset (https://www.kaggle.com/c/dogs-vs-cats/rules) and accept terms and condition. \n",
        "3. On the top right corner click on your Icon and go to accounts and press a button \"Create New API Token\". It will download a JSON file containing your username and key. \n",
        "4. Now, paste both below. \n"
      ]
    },
    {
      "cell_type": "code",
      "metadata": {
        "id": "0T3zcsRnn7EF",
        "colab": {
          "base_uri": "https://localhost:8080/"
        },
        "outputId": "c81afc1b-e105-463b-b44f-cebc042c2945"
      },
      "source": [
        "import os\n",
        "os.environ['KAGGLE_USERNAME'] = \"shivasajja\" # username from the json file\n",
        "os.environ['KAGGLE_KEY'] = \"61ce963cb957553ef71da4027fa1ad33\" # key from the json file\n",
        "!kaggle competitions download -c dogs-vs-cats # api copied from kaggle (https://www.kaggle.com/c/dogs-vs-cats/data)"
      ],
      "execution_count": 17,
      "outputs": [
        {
          "output_type": "stream",
          "text": [
            "Warning: Looks like you're using an outdated API Version, please consider updating (server 1.5.12 / client 1.5.4)\n",
            "test1.zip: Skipping, found more recently modified local copy (use --force to force download)\n",
            "train.zip: Skipping, found more recently modified local copy (use --force to force download)\n",
            "sampleSubmission.csv: Skipping, found more recently modified local copy (use --force to force download)\n"
          ],
          "name": "stdout"
        }
      ]
    },
    {
      "cell_type": "code",
      "metadata": {
        "id": "PiwIL8d1n7eS",
        "colab": {
          "base_uri": "https://localhost:8080/"
        },
        "outputId": "b4364737-9262-414b-bd98-fe446918c4d1"
      },
      "source": [
        "# Unzip training data\n",
        "from zipfile import ZipFile\n",
        "file_name = \"/content/train.zip\"\n",
        "with ZipFile(file_name, 'r') as zip:\n",
        "  zip.extractall()\n",
        "  print('done')"
      ],
      "execution_count": 18,
      "outputs": [
        {
          "output_type": "stream",
          "text": [
            "done\n"
          ],
          "name": "stdout"
        }
      ]
    },
    {
      "cell_type": "code",
      "metadata": {
        "id": "sa2Bj5i7pPKV",
        "colab": {
          "base_uri": "https://localhost:8080/"
        },
        "outputId": "418c852a-1d28-4af9-8aeb-2b5e725f58ef"
      },
      "source": [
        "# Get all the paths\n",
        "data_dir_list = os.listdir('/content/train')\n",
        "#print(data_dir_list)\n",
        "path, dirs, files = next(os.walk(\"/content/train\"))\n",
        "file_count = len(files)\n",
        "print(file_count)"
      ],
      "execution_count": 19,
      "outputs": [
        {
          "output_type": "stream",
          "text": [
            "25000\n"
          ],
          "name": "stdout"
        }
      ]
    },
    {
      "cell_type": "code",
      "metadata": {
        "id": "0ERlHkfHqpK8"
      },
      "source": [
        "# Make new base directory\n",
        "original_dataset_dir = '/content/train'\n",
        "base_dir = '/content/cats_and_dogs_small'\n",
        "os.mkdir(base_dir)"
      ],
      "execution_count": 20,
      "outputs": []
    },
    {
      "cell_type": "code",
      "metadata": {
        "id": "AANB1UJ6rQhM"
      },
      "source": [
        "train_dir = os.path.join(base_dir, 'train')\n",
        "os.mkdir(train_dir)\n",
        "\n",
        "validation_dir = os.path.join(base_dir, 'validation')\n",
        "os.mkdir(validation_dir)\n",
        "\n",
        "test_dir = os.path.join(base_dir, 'test')\n",
        "os.mkdir(test_dir)\n",
        "\n",
        "train_cats_dir = os.path.join(train_dir, 'cats')\n",
        "os.mkdir(train_cats_dir)\n",
        "\n",
        "train_dogs_dir = os.path.join(train_dir, 'dogs')\n",
        "os.mkdir(train_dogs_dir)\n",
        "\n",
        "validation_cats_dir = os.path.join(validation_dir, 'cats')\n",
        "os.mkdir(validation_cats_dir)\n",
        "\n",
        "validation_dogs_dir = os.path.join(validation_dir, 'dogs')\n",
        "os.mkdir(validation_dogs_dir)\n",
        "\n",
        "test_cats_dir = os.path.join(test_dir, 'cats')\n",
        "os.mkdir(test_cats_dir)\n",
        "\n",
        "test_dogs_dir = os.path.join(test_dir, 'dogs')\n",
        "os.mkdir(test_dogs_dir)"
      ],
      "execution_count": 21,
      "outputs": []
    },
    {
      "cell_type": "code",
      "metadata": {
        "id": "ULRgL9s9rV8T"
      },
      "source": [
        "import shutil\n",
        "fnames = ['cat.{}.jpg'.format(i) for i in range(1000)]\n",
        "for fname in fnames:\n",
        "    src = os.path.join(original_dataset_dir, fname)\n",
        "    dst = os.path.join(train_cats_dir, fname)\n",
        "    #print(src,dst)\n",
        "    shutil.copyfile(src, dst)\n",
        "    \n",
        "fnames = ['cat.{}.jpg'.format(i) for i in range(1000, 1500)]\n",
        "for fname in fnames:\n",
        "    src = os.path.join(original_dataset_dir, fname)\n",
        "    dst = os.path.join(validation_cats_dir, fname)\n",
        "    shutil.copyfile(src, dst)\n",
        "\n",
        "fnames = ['cat.{}.jpg'.format(i) for i in range(1500, 2000)]\n",
        "for fname in fnames:\n",
        "    src = os.path.join(original_dataset_dir, fname)\n",
        "    dst = os.path.join(test_cats_dir, fname)\n",
        "    shutil.copyfile(src, dst)\n",
        "    \n",
        "fnames = ['dog.{}.jpg'.format(i) for i in range(1000)]\n",
        "for fname in fnames:\n",
        "    src = os.path.join(original_dataset_dir, fname)\n",
        "    dst = os.path.join(train_dogs_dir, fname)\n",
        "    shutil.copyfile(src, dst)\n",
        "\n",
        "fnames = ['dog.{}.jpg'.format(i) for i in range(1000, 1500)]\n",
        "for fname in fnames:\n",
        "    src = os.path.join(original_dataset_dir, fname)\n",
        "    dst = os.path.join(validation_dogs_dir, fname)\n",
        "    shutil.copyfile(src, dst)\n",
        "\n",
        "fnames = ['dog.{}.jpg'.format(i) for i in range(1500, 2000)]\n",
        "for fname in fnames:\n",
        "    src = os.path.join(original_dataset_dir, fname)\n",
        "    dst = os.path.join(test_dogs_dir, fname)\n",
        "    shutil.copyfile(src, dst)"
      ],
      "execution_count": 22,
      "outputs": []
    },
    {
      "cell_type": "code",
      "metadata": {
        "id": "ul3XAbIyr7vC",
        "colab": {
          "base_uri": "https://localhost:8080/"
        },
        "outputId": "e2e5d905-29c9-4dfe-d16b-c3d815604c08"
      },
      "source": [
        "print('total training cat images:', len(os.listdir(train_cats_dir)))\n",
        "print('total training dog images:', len(os.listdir(train_dogs_dir)))\n",
        "print('total validation cat images:', len(os.listdir(validation_cats_dir)))\n",
        "\n",
        "print('total validation dog images:', len(os.listdir(validation_dogs_dir)))\n",
        "print('total test cat images:', len(os.listdir(test_cats_dir)))\n",
        "print('total test dog images:', len(os.listdir(test_dogs_dir)))"
      ],
      "execution_count": 23,
      "outputs": [
        {
          "output_type": "stream",
          "text": [
            "total training cat images: 1000\n",
            "total training dog images: 1000\n",
            "total validation cat images: 500\n",
            "total validation dog images: 500\n",
            "total test cat images: 500\n",
            "total test dog images: 500\n"
          ],
          "name": "stdout"
        }
      ]
    },
    {
      "cell_type": "code",
      "metadata": {
        "id": "o9yTA21_r-ma",
        "colab": {
          "base_uri": "https://localhost:8080/"
        },
        "outputId": "925c4b70-7706-47ad-ec6e-4cd5c2afe4ca"
      },
      "source": [
        "from keras import layers\n",
        "from keras import models\n",
        "\n",
        "model = models.Sequential()\n",
        "model.add(layers.Conv2D(32, (3, 3), activation='relu', input_shape=(150, 150, 3)))\n",
        "model.add(layers.MaxPooling2D((2, 2)))\n",
        "model.add(layers.Conv2D(64, (3, 3), activation='relu'))\n",
        "model.add(layers.MaxPooling2D((2, 2)))\n",
        "model.add(layers.Conv2D(128, (3, 3), activation='relu'))\n",
        "model.add(layers.MaxPooling2D((2, 2)))\n",
        "model.add(layers.Conv2D(128, (3, 3), activation='relu'))\n",
        "model.add(layers.MaxPooling2D((2, 2)))\n",
        "model.add(layers.Flatten())\n",
        "model.add(layers.Dense(512, activation='relu'))\n",
        "model.add(layers.Dense(1, activation='sigmoid'))\n",
        "model.summary()"
      ],
      "execution_count": 24,
      "outputs": [
        {
          "output_type": "stream",
          "text": [
            "Model: \"sequential\"\n",
            "_________________________________________________________________\n",
            "Layer (type)                 Output Shape              Param #   \n",
            "=================================================================\n",
            "conv2d (Conv2D)              (None, 148, 148, 32)      896       \n",
            "_________________________________________________________________\n",
            "max_pooling2d (MaxPooling2D) (None, 74, 74, 32)        0         \n",
            "_________________________________________________________________\n",
            "conv2d_1 (Conv2D)            (None, 72, 72, 64)        18496     \n",
            "_________________________________________________________________\n",
            "max_pooling2d_1 (MaxPooling2 (None, 36, 36, 64)        0         \n",
            "_________________________________________________________________\n",
            "conv2d_2 (Conv2D)            (None, 34, 34, 128)       73856     \n",
            "_________________________________________________________________\n",
            "max_pooling2d_2 (MaxPooling2 (None, 17, 17, 128)       0         \n",
            "_________________________________________________________________\n",
            "conv2d_3 (Conv2D)            (None, 15, 15, 128)       147584    \n",
            "_________________________________________________________________\n",
            "max_pooling2d_3 (MaxPooling2 (None, 7, 7, 128)         0         \n",
            "_________________________________________________________________\n",
            "flatten (Flatten)            (None, 6272)              0         \n",
            "_________________________________________________________________\n",
            "dense (Dense)                (None, 512)               3211776   \n",
            "_________________________________________________________________\n",
            "dense_1 (Dense)              (None, 1)                 513       \n",
            "=================================================================\n",
            "Total params: 3,453,121\n",
            "Trainable params: 3,453,121\n",
            "Non-trainable params: 0\n",
            "_________________________________________________________________\n"
          ],
          "name": "stdout"
        }
      ]
    },
    {
      "cell_type": "code",
      "metadata": {
        "id": "2mG8wekxsBVS"
      },
      "source": [
        "from keras import optimizers\n",
        "model.compile(loss='binary_crossentropy', \n",
        "              optimizer=optimizers.RMSprop(lr=1e-4),\n",
        "              metrics=['acc'])"
      ],
      "execution_count": 25,
      "outputs": []
    },
    {
      "cell_type": "markdown",
      "metadata": {
        "id": "7zS4Klm8qWp6"
      },
      "source": [
        "## Using ImageDataGenerator to read images from directories\n",
        "As you know by now, data should be formatted into appropriately preprocessed floatingpoint tensors before being fed into the network. Currently, the data sits on a drive as JPEG files, so the steps for getting it into the network are roughly as follows:\n",
        "\n",
        "* Read the picture files.\n",
        "* Decode the JPEG content to RGB grids of pixels.\n",
        "* Convert these into floating-point tensors.\n",
        "* Rescale the pixel values (between 0 and 255) to the [0, 1] interval (as you know, neural networks prefer to deal with small input values).\n",
        "\n",
        "It may seem a bit daunting, but fortunately Keras has utilities to take care of these steps automatically. Keras has a module with image-processing helper tools, located at keras.preprocessing.image. In particular, it contains the class ImageDataGenerator,which lets you quickly set up Python generators that can automatically turn image files on disk into batches of preprocessed tensors."
      ]
    },
    {
      "cell_type": "code",
      "metadata": {
        "id": "XJ7XU7t9sEh6",
        "colab": {
          "base_uri": "https://localhost:8080/"
        },
        "outputId": "60abc506-e212-4cf0-ba76-ec074737e317"
      },
      "source": [
        "from keras.preprocessing.image import ImageDataGenerator\n",
        "\n",
        "train_datagen = ImageDataGenerator(rescale=1./255)\n",
        "test_datagen = ImageDataGenerator(rescale=1./255)\n",
        "\n",
        "train_generator = train_datagen.flow_from_directory(train_dir,\n",
        "                                                    target_size=(150, 150), \n",
        "                                                    batch_size=20,\n",
        "                                                    class_mode='binary')\n",
        "\n",
        "validation_generator = test_datagen.flow_from_directory(validation_dir,\n",
        "                                                        target_size=(150, 150),\n",
        "                                                        batch_size=20,\n",
        "                                                        class_mode='binary')"
      ],
      "execution_count": 26,
      "outputs": [
        {
          "output_type": "stream",
          "text": [
            "Found 2000 images belonging to 2 classes.\n",
            "Found 1000 images belonging to 2 classes.\n"
          ],
          "name": "stdout"
        }
      ]
    },
    {
      "cell_type": "markdown",
      "metadata": {
        "id": "SEgLywySqm4u"
      },
      "source": [
        "Let’s fit the model to the data using the generator. You do so using the fit_generator method, the equivalent of fit for data generators like this one. It expects as its first argument a Python generator that will yield batches of inputs and targets indefinitely,like this one does. Because the data is being generated endlessly, the Keras model needs to know how many samples to draw from the generator before declaring anepoch over. This is the role of the `steps_per_epoch` argument: after having drawn `steps_per_epoch` batches from the generator—that is, after having run for `steps_per_epoch` gradient descent steps—the fitting process will go to the next epoch. In this case, batches are 20 samples, so it will take 100 batches until you see your target of 2,000 samples.\n",
        "\n",
        "When using fit_generator, you can pass a validation_data argument, much as with the fit method. It’s important to note that this argument is allowed to be a data generator, but it could also be a tuple of Numpy arrays. If you pass a generator as validation_data, then this generator is expected to yield batches of validation data endlessly; thus you should also specify the validation_steps argument, which tells the process how many batches to draw from the validation generator for evaluation."
      ]
    },
    {
      "cell_type": "code",
      "metadata": {
        "id": "yMyfPphJsJG6",
        "colab": {
          "base_uri": "https://localhost:8080/"
        },
        "outputId": "c8e08c7a-8147-4856-f263-84c1118c3a9c"
      },
      "source": [
        "history = model.fit_generator(train_generator,\n",
        "                              steps_per_epoch=100,\n",
        "                              epochs=30,\n",
        "                              validation_data=validation_generator,\n",
        "                              validation_steps=10)"
      ],
      "execution_count": 27,
      "outputs": [
        {
          "output_type": "stream",
          "text": [
            "/usr/local/lib/python3.7/dist-packages/tensorflow/python/keras/engine/training.py:1844: UserWarning: `Model.fit_generator` is deprecated and will be removed in a future version. Please use `Model.fit`, which supports generators.\n",
            "  warnings.warn('`Model.fit_generator` is deprecated and '\n"
          ],
          "name": "stderr"
        },
        {
          "output_type": "stream",
          "text": [
            "Epoch 1/30\n",
            "100/100 [==============================] - 40s 72ms/step - loss: 0.6974 - acc: 0.5149 - val_loss: 0.6860 - val_acc: 0.5400\n",
            "Epoch 2/30\n",
            "100/100 [==============================] - 7s 69ms/step - loss: 0.6599 - acc: 0.5858 - val_loss: 0.6179 - val_acc: 0.6750\n",
            "Epoch 3/30\n",
            "100/100 [==============================] - 7s 67ms/step - loss: 0.6010 - acc: 0.6866 - val_loss: 0.6128 - val_acc: 0.6800\n",
            "Epoch 4/30\n",
            "100/100 [==============================] - 7s 68ms/step - loss: 0.5637 - acc: 0.7129 - val_loss: 0.6383 - val_acc: 0.6500\n",
            "Epoch 5/30\n",
            "100/100 [==============================] - 7s 67ms/step - loss: 0.5578 - acc: 0.7152 - val_loss: 0.5387 - val_acc: 0.7450\n",
            "Epoch 6/30\n",
            "100/100 [==============================] - 7s 65ms/step - loss: 0.5019 - acc: 0.7405 - val_loss: 0.6581 - val_acc: 0.6450\n",
            "Epoch 7/30\n",
            "100/100 [==============================] - 7s 66ms/step - loss: 0.4962 - acc: 0.7576 - val_loss: 0.5039 - val_acc: 0.7550\n",
            "Epoch 8/30\n",
            "100/100 [==============================] - 7s 66ms/step - loss: 0.4609 - acc: 0.7745 - val_loss: 0.6180 - val_acc: 0.6750\n",
            "Epoch 9/30\n",
            "100/100 [==============================] - 7s 65ms/step - loss: 0.4344 - acc: 0.8007 - val_loss: 0.5946 - val_acc: 0.7050\n",
            "Epoch 10/30\n",
            "100/100 [==============================] - 7s 66ms/step - loss: 0.4023 - acc: 0.8151 - val_loss: 0.6868 - val_acc: 0.6400\n",
            "Epoch 11/30\n",
            "100/100 [==============================] - 7s 66ms/step - loss: 0.3813 - acc: 0.8298 - val_loss: 0.5406 - val_acc: 0.7200\n",
            "Epoch 12/30\n",
            "100/100 [==============================] - 7s 66ms/step - loss: 0.3694 - acc: 0.8366 - val_loss: 0.5675 - val_acc: 0.7250\n",
            "Epoch 13/30\n",
            "100/100 [==============================] - 7s 67ms/step - loss: 0.3228 - acc: 0.8539 - val_loss: 0.5132 - val_acc: 0.7600\n",
            "Epoch 14/30\n",
            "100/100 [==============================] - 7s 66ms/step - loss: 0.3118 - acc: 0.8702 - val_loss: 0.5845 - val_acc: 0.7050\n",
            "Epoch 15/30\n",
            "100/100 [==============================] - 7s 67ms/step - loss: 0.2715 - acc: 0.8854 - val_loss: 0.6277 - val_acc: 0.6950\n",
            "Epoch 16/30\n",
            "100/100 [==============================] - 7s 67ms/step - loss: 0.2638 - acc: 0.8946 - val_loss: 0.5607 - val_acc: 0.7550\n",
            "Epoch 17/30\n",
            "100/100 [==============================] - 7s 66ms/step - loss: 0.2355 - acc: 0.9150 - val_loss: 0.6399 - val_acc: 0.7100\n",
            "Epoch 18/30\n",
            "100/100 [==============================] - 7s 66ms/step - loss: 0.2274 - acc: 0.9099 - val_loss: 0.6758 - val_acc: 0.7350\n",
            "Epoch 19/30\n",
            "100/100 [==============================] - 7s 65ms/step - loss: 0.2247 - acc: 0.9154 - val_loss: 0.7531 - val_acc: 0.7200\n",
            "Epoch 20/30\n",
            "100/100 [==============================] - 7s 66ms/step - loss: 0.1774 - acc: 0.9257 - val_loss: 0.6275 - val_acc: 0.7100\n",
            "Epoch 21/30\n",
            "100/100 [==============================] - 7s 66ms/step - loss: 0.1490 - acc: 0.9502 - val_loss: 0.7152 - val_acc: 0.7200\n",
            "Epoch 22/30\n",
            "100/100 [==============================] - 7s 66ms/step - loss: 0.1471 - acc: 0.9564 - val_loss: 0.7237 - val_acc: 0.7250\n",
            "Epoch 23/30\n",
            "100/100 [==============================] - 7s 66ms/step - loss: 0.1143 - acc: 0.9652 - val_loss: 0.8359 - val_acc: 0.6850\n",
            "Epoch 24/30\n",
            "100/100 [==============================] - 7s 66ms/step - loss: 0.1034 - acc: 0.9684 - val_loss: 0.6537 - val_acc: 0.7750\n",
            "Epoch 25/30\n",
            "100/100 [==============================] - 7s 67ms/step - loss: 0.0952 - acc: 0.9706 - val_loss: 0.8987 - val_acc: 0.7150\n",
            "Epoch 26/30\n",
            "100/100 [==============================] - 7s 67ms/step - loss: 0.0839 - acc: 0.9796 - val_loss: 0.8574 - val_acc: 0.7300\n",
            "Epoch 27/30\n",
            "100/100 [==============================] - 7s 67ms/step - loss: 0.0677 - acc: 0.9802 - val_loss: 1.0724 - val_acc: 0.7000\n",
            "Epoch 28/30\n",
            "100/100 [==============================] - 7s 67ms/step - loss: 0.0601 - acc: 0.9818 - val_loss: 1.2210 - val_acc: 0.6550\n",
            "Epoch 29/30\n",
            "100/100 [==============================] - 7s 66ms/step - loss: 0.0578 - acc: 0.9792 - val_loss: 0.8984 - val_acc: 0.7600\n",
            "Epoch 30/30\n",
            "100/100 [==============================] - 7s 66ms/step - loss: 0.0490 - acc: 0.9863 - val_loss: 0.9028 - val_acc: 0.7450\n"
          ],
          "name": "stdout"
        }
      ]
    },
    {
      "cell_type": "code",
      "metadata": {
        "id": "MZaZ2HWZsNUi",
        "colab": {
          "base_uri": "https://localhost:8080/",
          "height": 545
        },
        "outputId": "47a45655-872c-42ba-b0a7-1cda6ac2f387"
      },
      "source": [
        "model.save('cats_and_dogs_small_1.h5')\n",
        "\n",
        "import matplotlib.pyplot as plt\n",
        "\n",
        "acc = history.history['acc']\n",
        "val_acc = history.history['val_acc']\n",
        "loss = history.history['loss']\n",
        "val_loss = history.history['val_loss']\n",
        "\n",
        "epochs = range(1, len(acc) + 1)\n",
        "\n",
        "plt.plot(epochs, acc, 'bo', label='Training acc')\n",
        "plt.plot(epochs, val_acc, 'b', label='Validation acc')\n",
        "plt.title('Training and validation accuracy')\n",
        "plt.legend()\n",
        "\n",
        "plt.figure()\n",
        "\n",
        "plt.plot(epochs, loss, 'bo', label='Training loss')\n",
        "plt.plot(epochs, val_loss, 'b', label='Validation loss')\n",
        "plt.title('Training and validation loss')\n",
        "plt.legend()\n",
        "\n",
        "plt.show()"
      ],
      "execution_count": 28,
      "outputs": [
        {
          "output_type": "display_data",
          "data": {
            "image/png": "[encoded data removed]",
            "text/plain": [
              "<Figure size 432x288 with 1 Axes>"
            ]
          },
          "metadata": {
            "tags": [],
            "needs_background": "light"
          }
        },
        {
          "output_type": "display_data",
          "data": {
            "image/png": "[encoded data removed]",
            "text/plain": [
              "<Figure size 432x288 with 1 Axes>"
            ]
          },
          "metadata": {
            "tags": [],
            "needs_background": "light"
          }
        }
      ]
    },
    {
      "cell_type": "markdown",
      "metadata": {
        "id": "XKZmXmBcq_8-"
      },
      "source": [
        "## Convolutional Networks with Dropout\n",
        "\n",
        "![alt text](https://camo.githubusercontent.com/ee6fa1073247cd2c3d241300caf110d7a7541bc5/68747470733a2f2f63646e2d696d616765732d312e6d656469756d2e636f6d2f6d61782f3830302f312a4972644a355067684439596f4f7956415137334d4a772e676966)\n",
        "\n",
        "Ref: https://github.com/mneha4/Training-Neural-Nets---Guidelines"
      ]
    },
    {
      "cell_type": "code",
      "metadata": {
        "id": "wu3cqeYQrDeN"
      },
      "source": [
        "model = models.Sequential()\n",
        "model.add(layers.Conv2D(32, (3, 3), activation='relu',\n",
        "input_shape=(150, 150, 3)))\n",
        "model.add(layers.MaxPooling2D((2, 2)))\n",
        "model.add(layers.Conv2D(64, (3, 3), activation='relu'))\n",
        "model.add(layers.MaxPooling2D((2, 2)))\n",
        "model.add(layers.Conv2D(128, (3, 3), activation='relu'))\n",
        "model.add(layers.MaxPooling2D((2, 2)))\n",
        "model.add(layers.Conv2D(128, (3, 3), activation='relu'))\n",
        "model.add(layers.MaxPooling2D((2, 2)))\n",
        "model.add(layers.Flatten())\n",
        "model.add(layers.Dropout(0.5))\n",
        "model.add(layers.Dense(512, activation='relu'))\n",
        "model.add(layers.Dense(1, activation='sigmoid'))\n",
        "\n",
        "model.compile(loss='binary_crossentropy',\n",
        "              optimizer=optimizers.RMSprop(lr=1e-4),\n",
        "              metrics=['acc'])"
      ],
      "execution_count": 29,
      "outputs": []
    },
    {
      "cell_type": "code",
      "metadata": {
        "id": "QSeLpvY0rH7F",
        "colab": {
          "base_uri": "https://localhost:8080/"
        },
        "outputId": "dc9b7c9e-207a-4aa0-d3a4-16ae3795672a"
      },
      "source": [
        "\n",
        "train_datagen = ImageDataGenerator(rescale=1./255,\n",
        "                                   rotation_range=40,\n",
        "                                   width_shift_range=0.2,\n",
        "                                   height_shift_range=0.2,\n",
        "                                   shear_range=0.2,\n",
        "                                   zoom_range=0.2,\n",
        "                                   horizontal_flip=True,)\n",
        "\n",
        "test_datagen = ImageDataGenerator(rescale=1./255)\n",
        "\n",
        "train_generator = train_datagen.flow_from_directory(train_dir,\n",
        "                                                    target_size=(150, 150),\n",
        "                                                    batch_size=20,\n",
        "                                                    class_mode='binary')\n",
        "\n",
        "validation_generator = test_datagen.flow_from_directory(validation_dir,\n",
        "                                                        target_size=(150, 150),\n",
        "                                                        batch_size=20,\n",
        "                                                        class_mode='binary')\n",
        "\n",
        "history = model.fit_generator(train_generator,\n",
        "                              steps_per_epoch=100,\n",
        "                              epochs=20,\n",
        "                              validation_data=validation_generator,\n",
        "                              validation_steps=10)"
      ],
      "execution_count": 30,
      "outputs": [
        {
          "output_type": "stream",
          "text": [
            "Found 2000 images belonging to 2 classes.\n",
            "Found 1000 images belonging to 2 classes.\n"
          ],
          "name": "stdout"
        },
        {
          "output_type": "stream",
          "text": [
            "/usr/local/lib/python3.7/dist-packages/tensorflow/python/keras/engine/training.py:1844: UserWarning: `Model.fit_generator` is deprecated and will be removed in a future version. Please use `Model.fit`, which supports generators.\n",
            "  warnings.warn('`Model.fit_generator` is deprecated and '\n"
          ],
          "name": "stderr"
        },
        {
          "output_type": "stream",
          "text": [
            "Epoch 1/20\n",
            "100/100 [==============================] - 16s 152ms/step - loss: 0.7075 - acc: 0.4728 - val_loss: 0.6900 - val_acc: 0.5300\n",
            "Epoch 2/20\n",
            "100/100 [==============================] - 15s 153ms/step - loss: 0.6899 - acc: 0.5317 - val_loss: 0.6855 - val_acc: 0.4900\n",
            "Epoch 3/20\n",
            "100/100 [==============================] - 15s 152ms/step - loss: 0.6865 - acc: 0.5410 - val_loss: 0.6418 - val_acc: 0.6300\n",
            "Epoch 4/20\n",
            "100/100 [==============================] - 15s 154ms/step - loss: 0.6784 - acc: 0.5637 - val_loss: 0.6228 - val_acc: 0.7100\n",
            "Epoch 5/20\n",
            "100/100 [==============================] - 15s 151ms/step - loss: 0.6629 - acc: 0.6193 - val_loss: 0.6198 - val_acc: 0.7050\n",
            "Epoch 6/20\n",
            "100/100 [==============================] - 15s 152ms/step - loss: 0.6546 - acc: 0.5910 - val_loss: 0.6505 - val_acc: 0.6450\n",
            "Epoch 7/20\n",
            "100/100 [==============================] - 15s 151ms/step - loss: 0.6248 - acc: 0.6467 - val_loss: 0.6369 - val_acc: 0.6450\n",
            "Epoch 8/20\n",
            "100/100 [==============================] - 15s 150ms/step - loss: 0.6261 - acc: 0.6404 - val_loss: 0.5668 - val_acc: 0.7000\n",
            "Epoch 9/20\n",
            "100/100 [==============================] - 15s 149ms/step - loss: 0.6215 - acc: 0.6656 - val_loss: 0.5932 - val_acc: 0.6650\n",
            "Epoch 10/20\n",
            "100/100 [==============================] - 15s 150ms/step - loss: 0.5928 - acc: 0.6831 - val_loss: 0.5640 - val_acc: 0.6850\n",
            "Epoch 11/20\n",
            "100/100 [==============================] - 15s 149ms/step - loss: 0.5946 - acc: 0.6798 - val_loss: 0.5715 - val_acc: 0.7150\n",
            "Epoch 12/20\n",
            "100/100 [==============================] - 15s 152ms/step - loss: 0.6042 - acc: 0.6782 - val_loss: 0.5243 - val_acc: 0.7200\n",
            "Epoch 13/20\n",
            "100/100 [==============================] - 15s 150ms/step - loss: 0.5920 - acc: 0.6748 - val_loss: 0.5080 - val_acc: 0.7400\n",
            "Epoch 14/20\n",
            "100/100 [==============================] - 15s 151ms/step - loss: 0.5480 - acc: 0.7252 - val_loss: 0.5222 - val_acc: 0.7400\n",
            "Epoch 15/20\n",
            "100/100 [==============================] - 15s 152ms/step - loss: 0.5807 - acc: 0.6874 - val_loss: 0.4959 - val_acc: 0.7250\n",
            "Epoch 16/20\n",
            "100/100 [==============================] - 15s 152ms/step - loss: 0.5895 - acc: 0.6709 - val_loss: 0.4978 - val_acc: 0.7400\n",
            "Epoch 17/20\n",
            "100/100 [==============================] - 15s 149ms/step - loss: 0.5623 - acc: 0.7057 - val_loss: 0.5128 - val_acc: 0.7100\n",
            "Epoch 18/20\n",
            "100/100 [==============================] - 15s 150ms/step - loss: 0.5621 - acc: 0.7191 - val_loss: 0.4982 - val_acc: 0.7750\n",
            "Epoch 19/20\n",
            "100/100 [==============================] - 15s 151ms/step - loss: 0.5433 - acc: 0.7246 - val_loss: 0.5039 - val_acc: 0.7800\n",
            "Epoch 20/20\n",
            "100/100 [==============================] - 15s 150ms/step - loss: 0.5437 - acc: 0.7211 - val_loss: 0.5412 - val_acc: 0.7000\n"
          ],
          "name": "stdout"
        }
      ]
    },
    {
      "cell_type": "markdown",
      "metadata": {
        "id": "BRdU5yrkUF_b"
      },
      "source": [
        "# Task 2:\n",
        "\n",
        "We have used Dropout to enhance the performance of the CNN model. Can you please use whatever you like to further enhance the performance from `val_acc: 0.7506`? "
      ]
    },
    {
      "cell_type": "code",
      "metadata": {
        "id": "75MRrhvB-z_8"
      },
      "source": [
        "model = models.Sequential()\n",
        "model.add(layers.Conv2D(32, (3, 3), activation='relu',\n",
        "input_shape=(150, 150, 3)))\n",
        "model.add(layers.MaxPooling2D((2, 2)))\n",
        "model.add(layers.Conv2D(64, (3, 3), activation='relu'))\n",
        "model.add(layers.MaxPooling2D((2, 2)))\n",
        "model.add(layers.Conv2D(128, (3, 3), activation='relu'))\n",
        "model.add(layers.MaxPooling2D((2, 2)))\n",
        "model.add(layers.Conv2D(128, (3, 3), activation='relu'))\n",
        "model.add(layers.MaxPooling2D((2, 2)))\n",
        "model.add(layers.Flatten())\n",
        "model.add(layers.Dropout(0.4))\n",
        "model.add(layers.Dense(512, activation='relu'))\n",
        "model.add(layers.Dense(1, activation='sigmoid'))\n",
        "\n",
        "model.compile(loss='binary_crossentropy',\n",
        "              optimizer=optimizers.Adamax(lr=1e-3),\n",
        "              metrics=['acc'])"
      ],
      "execution_count": 31,
      "outputs": []
    },
    {
      "cell_type": "code",
      "metadata": {
        "id": "mrw9xXvd-07n",
        "colab": {
          "base_uri": "https://localhost:8080/"
        },
        "outputId": "a940219b-8bcb-4b26-d31b-a78df481659f"
      },
      "source": [
        "\n",
        "train_datagen = ImageDataGenerator(rescale=1./255,\n",
        "                                   rotation_range=40,\n",
        "                                   width_shift_range=0.2,\n",
        "                                   height_shift_range=0.2,\n",
        "                                   shear_range=0.2,\n",
        "                                   zoom_range=0.2,\n",
        "                                   horizontal_flip=True,)\n",
        "\n",
        "test_datagen = ImageDataGenerator(rescale=1./255)\n",
        "\n",
        "train_generator = train_datagen.flow_from_directory(train_dir,\n",
        "                                                    target_size=(150, 150),\n",
        "                                                    batch_size=20,\n",
        "                                                    class_mode='binary')\n",
        "\n",
        "validation_generator = test_datagen.flow_from_directory(validation_dir,\n",
        "                                                        target_size=(150, 150),\n",
        "                                                        batch_size=20,\n",
        "                                                        class_mode='binary')\n",
        "\n",
        "history = model.fit_generator(train_generator,\n",
        "                              steps_per_epoch=100,\n",
        "                              epochs=40,\n",
        "                              validation_data=validation_generator,\n",
        "                              validation_steps=10)"
      ],
      "execution_count": 32,
      "outputs": [
        {
          "output_type": "stream",
          "text": [
            "Found 2000 images belonging to 2 classes.\n",
            "Found 1000 images belonging to 2 classes.\n"
          ],
          "name": "stdout"
        },
        {
          "output_type": "stream",
          "text": [
            "/usr/local/lib/python3.7/dist-packages/tensorflow/python/keras/engine/training.py:1844: UserWarning: `Model.fit_generator` is deprecated and will be removed in a future version. Please use `Model.fit`, which supports generators.\n",
            "  warnings.warn('`Model.fit_generator` is deprecated and '\n"
          ],
          "name": "stderr"
        },
        {
          "output_type": "stream",
          "text": [
            "Epoch 1/40\n",
            "100/100 [==============================] - 16s 151ms/step - loss: 0.7010 - acc: 0.4819 - val_loss: 0.6914 - val_acc: 0.4950\n",
            "Epoch 2/40\n",
            "100/100 [==============================] - 15s 149ms/step - loss: 0.6931 - acc: 0.4995 - val_loss: 0.6902 - val_acc: 0.6750\n",
            "Epoch 3/40\n",
            "100/100 [==============================] - 15s 150ms/step - loss: 0.6910 - acc: 0.5529 - val_loss: 0.6846 - val_acc: 0.5750\n",
            "Epoch 4/40\n",
            "100/100 [==============================] - 15s 149ms/step - loss: 0.6802 - acc: 0.5577 - val_loss: 0.6581 - val_acc: 0.6650\n",
            "Epoch 5/40\n",
            "100/100 [==============================] - 15s 149ms/step - loss: 0.6636 - acc: 0.5900 - val_loss: 0.6131 - val_acc: 0.6400\n",
            "Epoch 6/40\n",
            "100/100 [==============================] - 15s 150ms/step - loss: 0.6422 - acc: 0.6227 - val_loss: 0.5692 - val_acc: 0.7200\n",
            "Epoch 7/40\n",
            "100/100 [==============================] - 15s 149ms/step - loss: 0.6247 - acc: 0.6411 - val_loss: 0.5648 - val_acc: 0.7000\n",
            "Epoch 8/40\n",
            "100/100 [==============================] - 15s 149ms/step - loss: 0.5954 - acc: 0.6784 - val_loss: 0.6008 - val_acc: 0.6800\n",
            "Epoch 9/40\n",
            "100/100 [==============================] - 15s 150ms/step - loss: 0.6041 - acc: 0.6669 - val_loss: 0.6104 - val_acc: 0.6550\n",
            "Epoch 10/40\n",
            "100/100 [==============================] - 15s 148ms/step - loss: 0.5935 - acc: 0.6662 - val_loss: 0.6728 - val_acc: 0.6100\n",
            "Epoch 11/40\n",
            "100/100 [==============================] - 15s 151ms/step - loss: 0.5978 - acc: 0.6763 - val_loss: 0.5830 - val_acc: 0.6400\n",
            "Epoch 12/40\n",
            "100/100 [==============================] - 15s 150ms/step - loss: 0.5837 - acc: 0.6908 - val_loss: 0.5999 - val_acc: 0.6800\n",
            "Epoch 13/40\n",
            "100/100 [==============================] - 15s 150ms/step - loss: 0.5785 - acc: 0.6994 - val_loss: 0.5414 - val_acc: 0.7100\n",
            "Epoch 14/40\n",
            "100/100 [==============================] - 15s 150ms/step - loss: 0.5510 - acc: 0.7148 - val_loss: 0.5496 - val_acc: 0.7250\n",
            "Epoch 15/40\n",
            "100/100 [==============================] - 15s 149ms/step - loss: 0.5532 - acc: 0.7196 - val_loss: 0.4831 - val_acc: 0.7450\n",
            "Epoch 16/40\n",
            "100/100 [==============================] - 15s 150ms/step - loss: 0.5439 - acc: 0.7264 - val_loss: 0.5534 - val_acc: 0.6800\n",
            "Epoch 17/40\n",
            "100/100 [==============================] - 15s 150ms/step - loss: 0.5596 - acc: 0.7191 - val_loss: 0.5410 - val_acc: 0.7450\n",
            "Epoch 18/40\n",
            "100/100 [==============================] - 15s 150ms/step - loss: 0.5259 - acc: 0.7406 - val_loss: 0.5158 - val_acc: 0.7200\n",
            "Epoch 19/40\n",
            "100/100 [==============================] - 15s 151ms/step - loss: 0.5179 - acc: 0.7391 - val_loss: 0.5620 - val_acc: 0.6950\n",
            "Epoch 20/40\n",
            "100/100 [==============================] - 15s 152ms/step - loss: 0.5173 - acc: 0.7458 - val_loss: 0.4944 - val_acc: 0.7200\n",
            "Epoch 21/40\n",
            "100/100 [==============================] - 15s 154ms/step - loss: 0.5048 - acc: 0.7428 - val_loss: 0.5121 - val_acc: 0.7650\n",
            "Epoch 22/40\n",
            "100/100 [==============================] - 15s 154ms/step - loss: 0.5129 - acc: 0.7351 - val_loss: 0.4659 - val_acc: 0.7600\n",
            "Epoch 23/40\n",
            "100/100 [==============================] - 16s 155ms/step - loss: 0.5086 - acc: 0.7386 - val_loss: 0.5049 - val_acc: 0.7700\n",
            "Epoch 24/40\n",
            "100/100 [==============================] - 15s 153ms/step - loss: 0.5042 - acc: 0.7603 - val_loss: 0.5338 - val_acc: 0.7100\n",
            "Epoch 25/40\n",
            "100/100 [==============================] - 15s 151ms/step - loss: 0.4840 - acc: 0.7759 - val_loss: 0.4250 - val_acc: 0.8350\n",
            "Epoch 26/40\n",
            "100/100 [==============================] - 15s 150ms/step - loss: 0.4957 - acc: 0.7511 - val_loss: 0.4798 - val_acc: 0.7450\n",
            "Epoch 27/40\n",
            "100/100 [==============================] - 15s 151ms/step - loss: 0.4849 - acc: 0.7591 - val_loss: 0.4482 - val_acc: 0.7650\n",
            "Epoch 28/40\n",
            "100/100 [==============================] - 15s 150ms/step - loss: 0.4744 - acc: 0.7678 - val_loss: 0.4238 - val_acc: 0.8150\n",
            "Epoch 29/40\n",
            "100/100 [==============================] - 15s 150ms/step - loss: 0.4705 - acc: 0.7725 - val_loss: 0.4180 - val_acc: 0.8100\n",
            "Epoch 30/40\n",
            "100/100 [==============================] - 15s 150ms/step - loss: 0.4806 - acc: 0.7577 - val_loss: 0.4379 - val_acc: 0.7850\n",
            "Epoch 31/40\n",
            "100/100 [==============================] - 15s 151ms/step - loss: 0.4504 - acc: 0.7953 - val_loss: 0.4473 - val_acc: 0.7600\n",
            "Epoch 32/40\n",
            "100/100 [==============================] - 15s 151ms/step - loss: 0.4503 - acc: 0.7952 - val_loss: 0.4838 - val_acc: 0.7800\n",
            "Epoch 33/40\n",
            "100/100 [==============================] - 15s 152ms/step - loss: 0.4932 - acc: 0.7707 - val_loss: 0.4141 - val_acc: 0.7700\n",
            "Epoch 34/40\n",
            "100/100 [==============================] - 15s 151ms/step - loss: 0.4397 - acc: 0.7931 - val_loss: 0.4769 - val_acc: 0.7600\n",
            "Epoch 35/40\n",
            "100/100 [==============================] - 15s 151ms/step - loss: 0.4482 - acc: 0.7905 - val_loss: 0.4374 - val_acc: 0.8000\n",
            "Epoch 36/40\n",
            "100/100 [==============================] - 15s 151ms/step - loss: 0.4828 - acc: 0.7659 - val_loss: 0.4615 - val_acc: 0.7750\n",
            "Epoch 37/40\n",
            "100/100 [==============================] - 15s 152ms/step - loss: 0.4600 - acc: 0.7847 - val_loss: 0.4117 - val_acc: 0.8050\n",
            "Epoch 38/40\n",
            "100/100 [==============================] - 15s 152ms/step - loss: 0.4496 - acc: 0.7846 - val_loss: 0.5265 - val_acc: 0.7350\n",
            "Epoch 39/40\n",
            "100/100 [==============================] - 15s 150ms/step - loss: 0.4358 - acc: 0.7962 - val_loss: 0.5679 - val_acc: 0.7000\n",
            "Epoch 40/40\n",
            "100/100 [==============================] - 15s 150ms/step - loss: 0.4305 - acc: 0.7943 - val_loss: 0.4586 - val_acc: 0.7650\n"
          ],
          "name": "stdout"
        }
      ]
    },
    {
      "cell_type": "markdown",
      "metadata": {
        "id": "zj6QnaES77J4"
      },
      "source": [
        "Accuracy of 80.5% was obtained on validation set"
      ]
    },
    {
      "cell_type": "code",
      "metadata": {
        "id": "SLLVvEZS_Bwm"
      },
      "source": [
        ""
      ],
      "execution_count": null,
      "outputs": []
    }
  ]
}