{
  "nbformat": 4,
  "nbformat_minor": 0,
  "metadata": {
    "colab": {
      "name": "Task7.ipynb",
      "provenance": [],
      "include_colab_link": true
    },
    "kernelspec": {
      "name": "python3",
      "display_name": "Python 3"
    },
    "language_info": {
      "name": "python"
    }
  },
  "cells": [
    {
      "cell_type": "markdown",
      "metadata": {
        "id": "view-in-github",
        "colab_type": "text"
      },
      "source": [
        "<a href=\"https://colab.research.google.com/github/ss20648/CE888/blob/main/Lab%206/Task7.ipynb\" target=\"_parent\"><img src=\"https://colab.research.google.com/assets/colab-badge.svg\" alt=\"Open In Colab\"/></a>"
      ]
    },
    {
      "cell_type": "code",
      "metadata": {
        "id": "Ew1sGERsYzDq"
      },
      "source": [
        "import numpy as np\n",
        "import pandas as pd\n",
        "import matplotlib.pyplot as plt \n",
        "from sklearn import cluster, datasets, metrics\n",
        "import seaborn as sns"
      ],
      "execution_count": 2,
      "outputs": []
    },
    {
      "cell_type": "code",
      "metadata": {
        "id": "1Kf81o9NZR9x",
        "colab": {
          "base_uri": "https://localhost:8080/",
          "height": 195
        },
        "outputId": "aeff4703-b3b6-41be-8e8f-3432ae4a77b2"
      },
      "source": [
        "country=pd.read_csv('https://raw.githubusercontent.com/sagihaider/CE888_2021/main/Lab_6/Data/Country-data.csv')\n",
        "country.head()"
      ],
      "execution_count": 3,
      "outputs": [
        {
          "output_type": "execute_result",
          "data": {
            "text/html": [
              "<div>\n",
              "<style scoped>\n",
              "    .dataframe tbody tr th:only-of-type {\n",
              "        vertical-align: middle;\n",
              "    }\n",
              "\n",
              "    .dataframe tbody tr th {\n",
              "        vertical-align: top;\n",
              "    }\n",
              "\n",
              "    .dataframe thead th {\n",
              "        text-align: right;\n",
              "    }\n",
              "</style>\n",
              "<table border=\"1\" class=\"dataframe\">\n",
              "  <thead>\n",
              "    <tr style=\"text-align: right;\">\n",
              "      <th></th>\n",
              "      <th>country</th>\n",
              "      <th>child_mort</th>\n",
              "      <th>exports</th>\n",
              "      <th>health</th>\n",
              "      <th>imports</th>\n",
              "      <th>income</th>\n",
              "      <th>inflation</th>\n",
              "      <th>life_expec</th>\n",
              "      <th>total_fer</th>\n",
              "      <th>gdpp</th>\n",
              "    </tr>\n",
              "  </thead>\n",
              "  <tbody>\n",
              "    <tr>\n",
              "      <th>0</th>\n",
              "      <td>Afghanistan</td>\n",
              "      <td>90.2</td>\n",
              "      <td>10.0</td>\n",
              "      <td>7.58</td>\n",
              "      <td>44.9</td>\n",
              "      <td>1610</td>\n",
              "      <td>9.44</td>\n",
              "      <td>56.2</td>\n",
              "      <td>5.82</td>\n",
              "      <td>553</td>\n",
              "    </tr>\n",
              "    <tr>\n",
              "      <th>1</th>\n",
              "      <td>Albania</td>\n",
              "      <td>16.6</td>\n",
              "      <td>28.0</td>\n",
              "      <td>6.55</td>\n",
              "      <td>48.6</td>\n",
              "      <td>9930</td>\n",
              "      <td>4.49</td>\n",
              "      <td>76.3</td>\n",
              "      <td>1.65</td>\n",
              "      <td>4090</td>\n",
              "    </tr>\n",
              "    <tr>\n",
              "      <th>2</th>\n",
              "      <td>Algeria</td>\n",
              "      <td>27.3</td>\n",
              "      <td>38.4</td>\n",
              "      <td>4.17</td>\n",
              "      <td>31.4</td>\n",
              "      <td>12900</td>\n",
              "      <td>16.10</td>\n",
              "      <td>76.5</td>\n",
              "      <td>2.89</td>\n",
              "      <td>4460</td>\n",
              "    </tr>\n",
              "    <tr>\n",
              "      <th>3</th>\n",
              "      <td>Angola</td>\n",
              "      <td>119.0</td>\n",
              "      <td>62.3</td>\n",
              "      <td>2.85</td>\n",
              "      <td>42.9</td>\n",
              "      <td>5900</td>\n",
              "      <td>22.40</td>\n",
              "      <td>60.1</td>\n",
              "      <td>6.16</td>\n",
              "      <td>3530</td>\n",
              "    </tr>\n",
              "    <tr>\n",
              "      <th>4</th>\n",
              "      <td>Antigua and Barbuda</td>\n",
              "      <td>10.3</td>\n",
              "      <td>45.5</td>\n",
              "      <td>6.03</td>\n",
              "      <td>58.9</td>\n",
              "      <td>19100</td>\n",
              "      <td>1.44</td>\n",
              "      <td>76.8</td>\n",
              "      <td>2.13</td>\n",
              "      <td>12200</td>\n",
              "    </tr>\n",
              "  </tbody>\n",
              "</table>\n",
              "</div>"
            ],
            "text/plain": [
              "               country  child_mort  exports  ...  life_expec  total_fer   gdpp\n",
              "0          Afghanistan        90.2     10.0  ...        56.2       5.82    553\n",
              "1              Albania        16.6     28.0  ...        76.3       1.65   4090\n",
              "2              Algeria        27.3     38.4  ...        76.5       2.89   4460\n",
              "3               Angola       119.0     62.3  ...        60.1       6.16   3530\n",
              "4  Antigua and Barbuda        10.3     45.5  ...        76.8       2.13  12200\n",
              "\n",
              "[5 rows x 10 columns]"
            ]
          },
          "metadata": {
            "tags": []
          },
          "execution_count": 3
        }
      ]
    },
    {
      "cell_type": "code",
      "metadata": {
        "id": "HCNXFim2ZfFm",
        "colab": {
          "base_uri": "https://localhost:8080/"
        },
        "outputId": "9cc988ac-202d-41a4-9725-20ab6c0d4145"
      },
      "source": [
        "country_clusters_kmeans=cluster.KMeans(n_clusters=3)\n",
        "country_clusters_kmeans.fit(country.values[:, 1:])\n",
        "country_clusters_kmeans.labels_"
      ],
      "execution_count": 5,
      "outputs": [
        {
          "output_type": "execute_result",
          "data": {
            "text/plain": [
              "array([1, 1, 1, 1, 1, 1, 1, 0, 0, 1, 0, 0, 1, 1, 1, 0, 1, 1, 1, 1, 1, 1,\n",
              "       1, 2, 1, 1, 1, 1, 1, 0, 1, 1, 1, 1, 1, 1, 1, 1, 1, 1, 1, 1, 0, 0,\n",
              "       0, 1, 1, 1, 1, 0, 1, 1, 1, 0, 0, 1, 1, 1, 0, 1, 0, 1, 1, 1, 1, 1,\n",
              "       1, 1, 0, 1, 1, 1, 1, 0, 0, 0, 1, 0, 1, 1, 1, 1, 2, 1, 1, 1, 1, 1,\n",
              "       1, 1, 1, 2, 1, 1, 1, 1, 1, 1, 0, 1, 1, 1, 1, 1, 1, 1, 1, 1, 1, 1,\n",
              "       0, 0, 1, 1, 2, 0, 1, 1, 1, 1, 1, 1, 0, 2, 1, 1, 1, 1, 0, 1, 1, 1,\n",
              "       1, 2, 1, 0, 1, 1, 0, 0, 1, 1, 1, 1, 0, 2, 1, 1, 1, 1, 1, 1, 1, 1,\n",
              "       1, 1, 1, 0, 0, 0, 1, 1, 1, 1, 1, 1, 1], dtype=int32)"
            ]
          },
          "metadata": {
            "tags": []
          },
          "execution_count": 5
        }
      ]
    },
    {
      "cell_type": "code",
      "metadata": {
        "id": "tDbd47B_lAVN",
        "colab": {
          "base_uri": "https://localhost:8080/"
        },
        "outputId": "3e958314-1006-44b6-b5b1-20dde0b7c882"
      },
      "source": [
        "print(\"Silhouette Coefficient: %0.3f\"% metrics.silhouette_score(country.iloc[:, 1:], country_clusters_kmeans.labels_))"
      ],
      "execution_count": 6,
      "outputs": [
        {
          "output_type": "stream",
          "text": [
            "Silhouette Coefficient: 0.700\n"
          ],
          "name": "stdout"
        }
      ]
    },
    {
      "cell_type": "code",
      "metadata": {
        "id": "98NK48Xslj31"
      },
      "source": [
        "country['PredictedCategory']=country_clusters_kmeans.labels_+1"
      ],
      "execution_count": 7,
      "outputs": []
    },
    {
      "cell_type": "code",
      "metadata": {
        "id": "yTQ4Z8MUmIpe",
        "colab": {
          "base_uri": "https://localhost:8080/"
        },
        "outputId": "a5e3b63c-18f6-41d5-ddba-bb786d58a3cd"
      },
      "source": [
        "country['PredictedCategory'].value_counts()"
      ],
      "execution_count": 8,
      "outputs": [
        {
          "output_type": "execute_result",
          "data": {
            "text/plain": [
              "2    128\n",
              "1     32\n",
              "3      7\n",
              "Name: PredictedCategory, dtype: int64"
            ]
          },
          "metadata": {
            "tags": []
          },
          "execution_count": 8
        }
      ]
    },
    {
      "cell_type": "code",
      "metadata": {
        "id": "kKUF_2twmUwN"
      },
      "source": [
        "vars_1=country.loc[country['PredictedCategory']==1, :].values[:, 1:]\n",
        "vars_2=country.loc[country['PredictedCategory']==2, :].values[:, 1:]\n",
        "vars_3=country.loc[country['PredictedCategory']==3, :].values[:, 1:]"
      ],
      "execution_count": 10,
      "outputs": []
    },
    {
      "cell_type": "code",
      "metadata": {
        "colab": {
          "base_uri": "https://localhost:8080/",
          "height": 354
        },
        "id": "S03TNhQFzByC",
        "outputId": "40c56a39-0ac4-4f69-9b96-7c24afb8ef60"
      },
      "source": [
        "plt.figure(figsize=(8,5))\n",
        "plt.title(\"Country Clusters data\", fontsize=18)\n",
        "plt.grid(True)\n",
        "\n",
        "plt.scatter(vars_1[:,-2],vars_1[:,6],c='red', marker='o')\n",
        "plt.scatter(vars_2[:,-2],vars_2[:,6],c='blue', marker='x')\n",
        "plt.scatter(vars_3[:,-2],vars_3[:,6],c='green', marker='^')\n",
        "\n",
        "plt.xlabel('GDP')\n",
        "plt.ylabel('Life Expectancy')\n",
        "plt.legend(['Cluster 1', 'Cluster 2', 'Cluster 3'])\n",
        "plt.savefig('Country.png', dpi=300)\n",
        "plt.show()"
      ],
      "execution_count": 11,
      "outputs": [
        {
          "output_type": "display_data",
          "data": {
            "image/png": "[encoded data removed]",
            "text/plain": [
              "<Figure size 576x360 with 1 Axes>"
            ]
          },
          "metadata": {
            "tags": [],
            "needs_background": "light"
          }
        }
      ]
    },
    {
      "cell_type": "markdown",
      "metadata": {
        "id": "_ggW_XYPAnq6"
      },
      "source": [
        "We can observe that the **Cluster 1(In red circles)** elements indicate low GDP and relatively lower life expectancy. With this observation, it can be concluded that countries in cluster 1 are **under-developed** countries.\n",
        "\n",
        "\n",
        "The **Cluster 2(In blue crosses)** elements indicate mediocre/average GDP and decent life expectancy. It can be coincluded that these are **developing** countries.\n",
        "\n",
        "\n",
        "The **Cluster 3(In green triangles)** elements indicate high GDP and best life expectancy. The countries in this cluster can be concluded to be **developed** countries."
      ]
    },
    {
      "cell_type": "code",
      "metadata": {
        "colab": {
          "base_uri": "https://localhost:8080/"
        },
        "id": "uY8G6AbDz4Le",
        "outputId": "3e89f382-d91a-4103-be45-2c794c13320f"
      },
      "source": [
        "print('1 :', 'Under-Developed ')\n",
        "print('2 :', 'Developing ')\n",
        "print('3 :', 'Developed ')"
      ],
      "execution_count": 12,
      "outputs": [
        {
          "output_type": "stream",
          "text": [
            "1 : Under-Developed \n",
            "2 : Developing \n",
            "3 : Developed \n"
          ],
          "name": "stdout"
        }
      ]
    },
    {
      "cell_type": "markdown",
      "metadata": {
        "id": "z720j1hHHUqb"
      },
      "source": [
        "Hence, "
      ]
    },
    {
      "cell_type": "code",
      "metadata": {
        "id": "oN2TXBsEHO47",
        "colab": {
          "base_uri": "https://localhost:8080/",
          "height": 354
        },
        "outputId": "048a6b4f-d422-47cb-a7b5-ef7337741a80"
      },
      "source": [
        "plt.figure(figsize=(8,5))\n",
        "plt.title(\"Country data\", fontsize=18)\n",
        "plt.grid(True)\n",
        "\n",
        "plt.scatter(vars_1[:,-2],vars_1[:,6],c='red', marker='o')\n",
        "plt.scatter(vars_2[:,-2],vars_2[:,6],c='blue', marker='x')\n",
        "plt.scatter(vars_3[:,-2],vars_3[:,6],c='green', marker='^')\n",
        "\n",
        "plt.xlabel('GDP')\n",
        "plt.ylabel('Life Expectancy')\n",
        "plt.legend(['Under-Developed', 'Developing', 'Developed'])\n",
        "plt.savefig('Country_Clusters_.png', dpi=300)\n",
        "plt.show()"
      ],
      "execution_count": 13,
      "outputs": [
        {
          "output_type": "display_data",
          "data": {
            "image/png": "[encoded data removed]",
            "text/plain": [
              "<Figure size 576x360 with 1 Axes>"
            ]
          },
          "metadata": {
            "tags": [],
            "needs_background": "light"
          }
        }
      ]
    },
    {
      "cell_type": "code",
      "metadata": {
        "colab": {
          "base_uri": "https://localhost:8080/",
          "height": 1000
        },
        "id": "5GMQgxSkCvBV",
        "outputId": "4532e8f1-59dd-4b1b-b811-546d16aac5d7"
      },
      "source": [
        "print('under-developed :')\n",
        "(country.loc[country['PredictedCategory']==1, ['country']])"
      ],
      "execution_count": 15,
      "outputs": [
        {
          "output_type": "stream",
          "text": [
            "under-developed :\n"
          ],
          "name": "stdout"
        },
        {
          "output_type": "execute_result",
          "data": {
            "text/html": [
              "<div>\n",
              "<style scoped>\n",
              "    .dataframe tbody tr th:only-of-type {\n",
              "        vertical-align: middle;\n",
              "    }\n",
              "\n",
              "    .dataframe tbody tr th {\n",
              "        vertical-align: top;\n",
              "    }\n",
              "\n",
              "    .dataframe thead th {\n",
              "        text-align: right;\n",
              "    }\n",
              "</style>\n",
              "<table border=\"1\" class=\"dataframe\">\n",
              "  <thead>\n",
              "    <tr style=\"text-align: right;\">\n",
              "      <th></th>\n",
              "      <th>country</th>\n",
              "    </tr>\n",
              "  </thead>\n",
              "  <tbody>\n",
              "    <tr>\n",
              "      <th>7</th>\n",
              "      <td>Australia</td>\n",
              "    </tr>\n",
              "    <tr>\n",
              "      <th>8</th>\n",
              "      <td>Austria</td>\n",
              "    </tr>\n",
              "    <tr>\n",
              "      <th>10</th>\n",
              "      <td>Bahamas</td>\n",
              "    </tr>\n",
              "    <tr>\n",
              "      <th>11</th>\n",
              "      <td>Bahrain</td>\n",
              "    </tr>\n",
              "    <tr>\n",
              "      <th>15</th>\n",
              "      <td>Belgium</td>\n",
              "    </tr>\n",
              "    <tr>\n",
              "      <th>29</th>\n",
              "      <td>Canada</td>\n",
              "    </tr>\n",
              "    <tr>\n",
              "      <th>42</th>\n",
              "      <td>Cyprus</td>\n",
              "    </tr>\n",
              "    <tr>\n",
              "      <th>43</th>\n",
              "      <td>Czech Republic</td>\n",
              "    </tr>\n",
              "    <tr>\n",
              "      <th>44</th>\n",
              "      <td>Denmark</td>\n",
              "    </tr>\n",
              "    <tr>\n",
              "      <th>49</th>\n",
              "      <td>Equatorial Guinea</td>\n",
              "    </tr>\n",
              "    <tr>\n",
              "      <th>53</th>\n",
              "      <td>Finland</td>\n",
              "    </tr>\n",
              "    <tr>\n",
              "      <th>54</th>\n",
              "      <td>France</td>\n",
              "    </tr>\n",
              "    <tr>\n",
              "      <th>58</th>\n",
              "      <td>Germany</td>\n",
              "    </tr>\n",
              "    <tr>\n",
              "      <th>60</th>\n",
              "      <td>Greece</td>\n",
              "    </tr>\n",
              "    <tr>\n",
              "      <th>68</th>\n",
              "      <td>Iceland</td>\n",
              "    </tr>\n",
              "    <tr>\n",
              "      <th>73</th>\n",
              "      <td>Ireland</td>\n",
              "    </tr>\n",
              "    <tr>\n",
              "      <th>74</th>\n",
              "      <td>Israel</td>\n",
              "    </tr>\n",
              "    <tr>\n",
              "      <th>75</th>\n",
              "      <td>Italy</td>\n",
              "    </tr>\n",
              "    <tr>\n",
              "      <th>77</th>\n",
              "      <td>Japan</td>\n",
              "    </tr>\n",
              "    <tr>\n",
              "      <th>98</th>\n",
              "      <td>Malta</td>\n",
              "    </tr>\n",
              "    <tr>\n",
              "      <th>110</th>\n",
              "      <td>Netherlands</td>\n",
              "    </tr>\n",
              "    <tr>\n",
              "      <th>111</th>\n",
              "      <td>New Zealand</td>\n",
              "    </tr>\n",
              "    <tr>\n",
              "      <th>115</th>\n",
              "      <td>Oman</td>\n",
              "    </tr>\n",
              "    <tr>\n",
              "      <th>122</th>\n",
              "      <td>Portugal</td>\n",
              "    </tr>\n",
              "    <tr>\n",
              "      <th>128</th>\n",
              "      <td>Saudi Arabia</td>\n",
              "    </tr>\n",
              "    <tr>\n",
              "      <th>135</th>\n",
              "      <td>Slovenia</td>\n",
              "    </tr>\n",
              "    <tr>\n",
              "      <th>138</th>\n",
              "      <td>South Korea</td>\n",
              "    </tr>\n",
              "    <tr>\n",
              "      <th>139</th>\n",
              "      <td>Spain</td>\n",
              "    </tr>\n",
              "    <tr>\n",
              "      <th>144</th>\n",
              "      <td>Sweden</td>\n",
              "    </tr>\n",
              "    <tr>\n",
              "      <th>157</th>\n",
              "      <td>United Arab Emirates</td>\n",
              "    </tr>\n",
              "    <tr>\n",
              "      <th>158</th>\n",
              "      <td>United Kingdom</td>\n",
              "    </tr>\n",
              "    <tr>\n",
              "      <th>159</th>\n",
              "      <td>United States</td>\n",
              "    </tr>\n",
              "  </tbody>\n",
              "</table>\n",
              "</div>"
            ],
            "text/plain": [
              "                  country\n",
              "7               Australia\n",
              "8                 Austria\n",
              "10                Bahamas\n",
              "11                Bahrain\n",
              "15                Belgium\n",
              "29                 Canada\n",
              "42                 Cyprus\n",
              "43         Czech Republic\n",
              "44                Denmark\n",
              "49      Equatorial Guinea\n",
              "53                Finland\n",
              "54                 France\n",
              "58                Germany\n",
              "60                 Greece\n",
              "68                Iceland\n",
              "73                Ireland\n",
              "74                 Israel\n",
              "75                  Italy\n",
              "77                  Japan\n",
              "98                  Malta\n",
              "110           Netherlands\n",
              "111           New Zealand\n",
              "115                  Oman\n",
              "122              Portugal\n",
              "128          Saudi Arabia\n",
              "135              Slovenia\n",
              "138           South Korea\n",
              "139                 Spain\n",
              "144                Sweden\n",
              "157  United Arab Emirates\n",
              "158        United Kingdom\n",
              "159         United States"
            ]
          },
          "metadata": {
            "tags": []
          },
          "execution_count": 15
        }
      ]
    },
    {
      "cell_type": "code",
      "metadata": {
        "colab": {
          "base_uri": "https://localhost:8080/",
          "height": 418
        },
        "id": "WbBfIZ2EDzVZ",
        "outputId": "8394727f-9e69-4ac7-862e-77640869c6ad"
      },
      "source": [
        "print('developing countries :')\n",
        "(country.loc[country['PredictedCategory']==2, ['country']])"
      ],
      "execution_count": 17,
      "outputs": [
        {
          "output_type": "stream",
          "text": [
            "developing countries :\n"
          ],
          "name": "stdout"
        },
        {
          "output_type": "execute_result",
          "data": {
            "text/html": [
              "<div>\n",
              "<style scoped>\n",
              "    .dataframe tbody tr th:only-of-type {\n",
              "        vertical-align: middle;\n",
              "    }\n",
              "\n",
              "    .dataframe tbody tr th {\n",
              "        vertical-align: top;\n",
              "    }\n",
              "\n",
              "    .dataframe thead th {\n",
              "        text-align: right;\n",
              "    }\n",
              "</style>\n",
              "<table border=\"1\" class=\"dataframe\">\n",
              "  <thead>\n",
              "    <tr style=\"text-align: right;\">\n",
              "      <th></th>\n",
              "      <th>country</th>\n",
              "    </tr>\n",
              "  </thead>\n",
              "  <tbody>\n",
              "    <tr>\n",
              "      <th>0</th>\n",
              "      <td>Afghanistan</td>\n",
              "    </tr>\n",
              "    <tr>\n",
              "      <th>1</th>\n",
              "      <td>Albania</td>\n",
              "    </tr>\n",
              "    <tr>\n",
              "      <th>2</th>\n",
              "      <td>Algeria</td>\n",
              "    </tr>\n",
              "    <tr>\n",
              "      <th>3</th>\n",
              "      <td>Angola</td>\n",
              "    </tr>\n",
              "    <tr>\n",
              "      <th>4</th>\n",
              "      <td>Antigua and Barbuda</td>\n",
              "    </tr>\n",
              "    <tr>\n",
              "      <th>...</th>\n",
              "      <td>...</td>\n",
              "    </tr>\n",
              "    <tr>\n",
              "      <th>162</th>\n",
              "      <td>Vanuatu</td>\n",
              "    </tr>\n",
              "    <tr>\n",
              "      <th>163</th>\n",
              "      <td>Venezuela</td>\n",
              "    </tr>\n",
              "    <tr>\n",
              "      <th>164</th>\n",
              "      <td>Vietnam</td>\n",
              "    </tr>\n",
              "    <tr>\n",
              "      <th>165</th>\n",
              "      <td>Yemen</td>\n",
              "    </tr>\n",
              "    <tr>\n",
              "      <th>166</th>\n",
              "      <td>Zambia</td>\n",
              "    </tr>\n",
              "  </tbody>\n",
              "</table>\n",
              "<p>128 rows × 1 columns</p>\n",
              "</div>"
            ],
            "text/plain": [
              "                 country\n",
              "0            Afghanistan\n",
              "1                Albania\n",
              "2                Algeria\n",
              "3                 Angola\n",
              "4    Antigua and Barbuda\n",
              "..                   ...\n",
              "162              Vanuatu\n",
              "163            Venezuela\n",
              "164              Vietnam\n",
              "165                Yemen\n",
              "166               Zambia\n",
              "\n",
              "[128 rows x 1 columns]"
            ]
          },
          "metadata": {
            "tags": []
          },
          "execution_count": 17
        }
      ]
    },
    {
      "cell_type": "code",
      "metadata": {
        "colab": {
          "base_uri": "https://localhost:8080/",
          "height": 271
        },
        "id": "nEfH719LDVAj",
        "outputId": "324f19f5-18db-47ab-f9ab-dc666c7b4cd2"
      },
      "source": [
        "print(' developed countries :')\n",
        "(country.loc[country['PredictedCategory']==3, ['country']])"
      ],
      "execution_count": 18,
      "outputs": [
        {
          "output_type": "stream",
          "text": [
            " developed countries :\n"
          ],
          "name": "stdout"
        },
        {
          "output_type": "execute_result",
          "data": {
            "text/html": [
              "<div>\n",
              "<style scoped>\n",
              "    .dataframe tbody tr th:only-of-type {\n",
              "        vertical-align: middle;\n",
              "    }\n",
              "\n",
              "    .dataframe tbody tr th {\n",
              "        vertical-align: top;\n",
              "    }\n",
              "\n",
              "    .dataframe thead th {\n",
              "        text-align: right;\n",
              "    }\n",
              "</style>\n",
              "<table border=\"1\" class=\"dataframe\">\n",
              "  <thead>\n",
              "    <tr style=\"text-align: right;\">\n",
              "      <th></th>\n",
              "      <th>country</th>\n",
              "    </tr>\n",
              "  </thead>\n",
              "  <tbody>\n",
              "    <tr>\n",
              "      <th>23</th>\n",
              "      <td>Brunei</td>\n",
              "    </tr>\n",
              "    <tr>\n",
              "      <th>82</th>\n",
              "      <td>Kuwait</td>\n",
              "    </tr>\n",
              "    <tr>\n",
              "      <th>91</th>\n",
              "      <td>Luxembourg</td>\n",
              "    </tr>\n",
              "    <tr>\n",
              "      <th>114</th>\n",
              "      <td>Norway</td>\n",
              "    </tr>\n",
              "    <tr>\n",
              "      <th>123</th>\n",
              "      <td>Qatar</td>\n",
              "    </tr>\n",
              "    <tr>\n",
              "      <th>133</th>\n",
              "      <td>Singapore</td>\n",
              "    </tr>\n",
              "    <tr>\n",
              "      <th>145</th>\n",
              "      <td>Switzerland</td>\n",
              "    </tr>\n",
              "  </tbody>\n",
              "</table>\n",
              "</div>"
            ],
            "text/plain": [
              "         country\n",
              "23        Brunei\n",
              "82        Kuwait\n",
              "91    Luxembourg\n",
              "114       Norway\n",
              "123        Qatar\n",
              "133    Singapore\n",
              "145  Switzerland"
            ]
          },
          "metadata": {
            "tags": []
          },
          "execution_count": 18
        }
      ]
    },
    {
      "cell_type": "code",
      "metadata": {
        "id": "uxUJqnH1EBPZ"
      },
      "source": [
        ""
      ],
      "execution_count": null,
      "outputs": []
    }
  ]
}